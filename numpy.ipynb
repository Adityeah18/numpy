{
  "nbformat": 4,
  "nbformat_minor": 0,
  "metadata": {
    "colab": {
      "provenance": [],
      "gpuType": "T4",
      "authorship_tag": "ABX9TyP+m8CuvdSrXqvPkxBW6X/i",
      "include_colab_link": true
    },
    "kernelspec": {
      "name": "python3",
      "display_name": "Python 3"
    },
    "language_info": {
      "name": "python"
    },
    "accelerator": "GPU"
  },
  "cells": [
    {
      "cell_type": "markdown",
      "metadata": {
        "id": "view-in-github",
        "colab_type": "text"
      },
      "source": [
        "<a href=\"https://colab.research.google.com/github/Adityeah18/numpy/blob/main/numpy.ipynb\" target=\"_parent\"><img src=\"https://colab.research.google.com/assets/colab-badge.svg\" alt=\"Open In Colab\"/></a>"
      ]
    },
    {
      "cell_type": "markdown",
      "source": [
        "#NumPy\n",
        "##Overview\n",
        "Numpy is a library to do the maths and msostly is vector form.\n",
        "There are many function which can be performed so it replaced the Matlab.\n",
        "Numpy is a module which a List can perform but Numpy is faster than Lists.\n",
        "The reason of Numpy to be faster is beceause the storage is side by side and not like list's pointer method . Due to this cache memory arrangement is also proper and not scattered . The SimD vectorization is fast for Numpy.\n",
        "\n",
        "Another benefit is that Numpy array can be multiply directly eg\n",
        "numpy.array1([1,2,3]) x numpy.array([4,5,6]) is possible\n",
        "\n",
        "Numpy array can represent 1-D,2-D,3-D,4-D... data and the default of data type is int64 bit while it can also be represented in 32, 16,8-bit too\n",
        "\n",
        "Numpy is used in M/L, computer vision in processing the image etc"
      ],
      "metadata": {
        "id": "nVwQhKEXRVMC"
      }
    },
    {
      "cell_type": "code",
      "execution_count": 1,
      "metadata": {
        "colab": {
          "base_uri": "https://localhost:8080/"
        },
        "id": "BCXagby0RKGJ",
        "outputId": "1479c017-b597-464a-a436-75d60d356ae5"
      },
      "outputs": [
        {
          "output_type": "stream",
          "name": "stdout",
          "text": [
            "Requirement already satisfied: Numpy in /usr/local/lib/python3.11/dist-packages (2.0.2)\n"
          ]
        }
      ],
      "source": [
        "#Installing the Numpy\n",
        "!pip install Numpy"
      ]
    },
    {
      "cell_type": "code",
      "source": [
        "#Loading the library\n",
        "import numpy as np\n"
      ],
      "metadata": {
        "id": "s9lycsGtTx-j"
      },
      "execution_count": 2,
      "outputs": []
    },
    {
      "cell_type": "markdown",
      "source": [
        "##Array"
      ],
      "metadata": {
        "id": "cBmyBqMMUAWR"
      }
    },
    {
      "cell_type": "code",
      "source": [
        "#Without mentioning the datatype:meaning the dtype will be 64 bits as a default\n",
        "a=np.array([1,2,3])\n",
        "\n",
        "b=np.array([[4,5,6],[7,8,9]])\n",
        "\n",
        "#With mentioning the specific datatype\n",
        "a=np.array([1,2,3],dtype='int32')\n",
        "\n",
        "b=np.array([[4,5,6],[7,8,9]],dtype='int32')\n"
      ],
      "metadata": {
        "id": "HfrIuakdT8h9"
      },
      "execution_count": 3,
      "outputs": []
    },
    {
      "cell_type": "markdown",
      "source": [
        "###Dimention"
      ],
      "metadata": {
        "id": "GLYE2V9rUOkl"
      }
    },
    {
      "cell_type": "code",
      "source": [
        "#Getting Dimention\n",
        "print(a.ndim)\n",
        "print(b.ndim)"
      ],
      "metadata": {
        "colab": {
          "base_uri": "https://localhost:8080/"
        },
        "id": "wJaldIttUxJL",
        "outputId": "615e32e6-2ad3-4dcd-c979-d0c1ef663363"
      },
      "execution_count": 4,
      "outputs": [
        {
          "output_type": "stream",
          "name": "stdout",
          "text": [
            "1\n",
            "2\n"
          ]
        }
      ]
    },
    {
      "cell_type": "markdown",
      "source": [
        "###Shape"
      ],
      "metadata": {
        "id": "pRrg9LVWURzY"
      }
    },
    {
      "cell_type": "code",
      "source": [
        "#Getting Shape i.e: row &col\n",
        "print(a.shape)\n",
        "print(b.shape)"
      ],
      "metadata": {
        "colab": {
          "base_uri": "https://localhost:8080/"
        },
        "id": "WBv6kCrNVolQ",
        "outputId": "2e977df2-17f0-4218-9362-d3d6b29f9db6"
      },
      "execution_count": 5,
      "outputs": [
        {
          "output_type": "stream",
          "name": "stdout",
          "text": [
            "(3,)\n",
            "(2, 3)\n"
          ]
        }
      ]
    },
    {
      "cell_type": "markdown",
      "source": [
        "###Data Type"
      ],
      "metadata": {
        "id": "pGUz4aDGUXBY"
      }
    },
    {
      "cell_type": "code",
      "source": [
        "#Getting Type\n",
        "print(a.dtype)\n",
        "print(b.dtype)"
      ],
      "metadata": {
        "colab": {
          "base_uri": "https://localhost:8080/"
        },
        "id": "2ejGbcTkV8eb",
        "outputId": "8ba0961e-5caa-4797-8b97-af83b3e51b1f"
      },
      "execution_count": 6,
      "outputs": [
        {
          "output_type": "stream",
          "name": "stdout",
          "text": [
            "int32\n",
            "int32\n"
          ]
        }
      ]
    },
    {
      "cell_type": "markdown",
      "source": [
        "###Size"
      ],
      "metadata": {
        "id": "hjPXUl0xUcvx"
      }
    },
    {
      "cell_type": "code",
      "source": [
        "#Getting Size\n",
        "\n",
        "print(a.itemsize) #Hows its 4...does it have to do with dtype\n",
        "print(b.itemsize)"
      ],
      "metadata": {
        "colab": {
          "base_uri": "https://localhost:8080/"
        },
        "id": "rCRYIyngWRJV",
        "outputId": "0691b991-cadd-4bf5-af98-c86098e995ac"
      },
      "execution_count": 7,
      "outputs": [
        {
          "output_type": "stream",
          "name": "stdout",
          "text": [
            "4\n",
            "4\n"
          ]
        }
      ]
    },
    {
      "cell_type": "code",
      "source": [
        "#Total Size\n",
        "print(a.nbytes)\n",
        "print(b.nbytes) #why the out put is 12 and 24??"
      ],
      "metadata": {
        "colab": {
          "base_uri": "https://localhost:8080/"
        },
        "id": "OfkcpQ5fWtMR",
        "outputId": "cd8f0d22-a350-4ecb-e972-a3917c8faa88"
      },
      "execution_count": 8,
      "outputs": [
        {
          "output_type": "stream",
          "name": "stdout",
          "text": [
            "12\n",
            "24\n"
          ]
        }
      ]
    },
    {
      "cell_type": "markdown",
      "source": [
        "###Elements"
      ],
      "metadata": {
        "id": "kQFNfnsKUiB2"
      }
    },
    {
      "cell_type": "code",
      "source": [
        "#Getting number of elements , not the size\n",
        "print(a.size) #3 as the element is 1-d row is 3\n",
        "print(b.size) #row and col in total =6"
      ],
      "metadata": {
        "colab": {
          "base_uri": "https://localhost:8080/"
        },
        "id": "GHyOFMpOYAkj",
        "outputId": "a499e67c-fc64-42fb-97f9-797ef9ef6e96"
      },
      "execution_count": 9,
      "outputs": [
        {
          "output_type": "stream",
          "name": "stdout",
          "text": [
            "3\n",
            "6\n"
          ]
        }
      ]
    },
    {
      "cell_type": "markdown",
      "source": [
        "##Accessing/Modifying any specific element,row,col"
      ],
      "metadata": {
        "id": "0gLTTFbOUpRg"
      }
    },
    {
      "cell_type": "code",
      "source": [
        "a=np.array([[1,2,3,4,5,6,7,8],[9,10,11,12,13,14,15,16]]) #Making 2-d array\n",
        "print(a)\n",
        "\n",
        "#Now if i want to get the element 14\n",
        "print(a[1,5]) #I will specify row and colto acess:Remember the python indes starts with 0\n",
        "\n",
        "#To get Specific row\n",
        "print(a[0,:])\n",
        "\n",
        "#To get specific col\n",
        "print(a[:,3])\n",
        "\n"
      ],
      "metadata": {
        "colab": {
          "base_uri": "https://localhost:8080/"
        },
        "id": "3n77c2t5YhfX",
        "outputId": "06b56334-e5a4-45ac-edf4-c883dc66d01b"
      },
      "execution_count": 10,
      "outputs": [
        {
          "output_type": "stream",
          "name": "stdout",
          "text": [
            "[[ 1  2  3  4  5  6  7  8]\n",
            " [ 9 10 11 12 13 14 15 16]]\n",
            "14\n",
            "[1 2 3 4 5 6 7 8]\n",
            "[ 4 12]\n"
          ]
        }
      ]
    },
    {
      "cell_type": "markdown",
      "source": [
        "###Indexing/Slicing"
      ],
      "metadata": {
        "id": "H-EIJvP0VT8V"
      }
    },
    {
      "cell_type": "code",
      "source": [
        "\n",
        "#we can acess like [start index: end index : step size]\n",
        "print(a[1,3:-2: 2])\n",
        "\n",
        "#changing the value of element\n",
        "a[1,5]=20\n",
        "print(a) #See now 1,5 is 20 instead of 14\n",
        "#for changing whole row\n",
        "a[1,:]=[0,0,0,0,0,0,0,0]\n",
        "print(a)\n",
        "\n",
        "#For cahnging whole colomn\n",
        "a[:,3]=[-1,-1]\n",
        "print(a)"
      ],
      "metadata": {
        "colab": {
          "base_uri": "https://localhost:8080/"
        },
        "id": "C7kLeu9IVSod",
        "outputId": "d8d6db7f-52c0-46ec-dcc0-00f8957c3cec"
      },
      "execution_count": 11,
      "outputs": [
        {
          "output_type": "stream",
          "name": "stdout",
          "text": [
            "[12 14]\n",
            "[[ 1  2  3  4  5  6  7  8]\n",
            " [ 9 10 11 12 13 20 15 16]]\n",
            "[[1 2 3 4 5 6 7 8]\n",
            " [0 0 0 0 0 0 0 0]]\n",
            "[[ 1  2  3 -1  5  6  7  8]\n",
            " [ 0  0  0 -1  0  0  0  0]]\n"
          ]
        }
      ]
    },
    {
      "cell_type": "markdown",
      "source": [
        "##3-D array"
      ],
      "metadata": {
        "id": "iZFI_yWIV4fk"
      }
    },
    {
      "cell_type": "code",
      "source": [
        "b=np.array([[[1,2],[3,4]],[[5,6],[7,8]]])\n",
        "print(b)\n",
        "\n",
        "print(b[1,0,1]) #to get the element 6\n"
      ],
      "metadata": {
        "id": "3eqVY1IudPeY",
        "colab": {
          "base_uri": "https://localhost:8080/"
        },
        "outputId": "60810a32-e379-4dd8-ae4f-387e47728dae"
      },
      "execution_count": 12,
      "outputs": [
        {
          "output_type": "stream",
          "name": "stdout",
          "text": [
            "[[[1 2]\n",
            "  [3 4]]\n",
            "\n",
            " [[5 6]\n",
            "  [7 8]]]\n",
            "6\n"
          ]
        }
      ]
    },
    {
      "cell_type": "markdown",
      "source": [
        "##Array Types\n",
        "This section shows how to create arrays filled with:\n",
        "- Zeros\n",
        "- Ones\n",
        "- Custom values\n",
        "- Random numbers (both floats and integers)\n",
        "- Identity matrices\n",
        "- Repeated arrays\n",
        "- Copies of arrays\n",
        "\n",
        "All examples include shapes and datatype usage explanations."
      ],
      "metadata": {
        "id": "jWzGQSteWj7Y"
      }
    },
    {
      "cell_type": "code",
      "source": [
        "# 🟦 Create a 3x2 array filled with zeros\n",
        "z = np.zeros((3, 2))  # 3 rows, 2 columns\n",
        "print(\"Zeros array (3x2):\\n\", z)"
      ],
      "metadata": {
        "colab": {
          "base_uri": "https://localhost:8080/"
        },
        "id": "68OVqtjWXBms",
        "outputId": "edec3a62-4e27-4483-fc19-cc648023cc91"
      },
      "execution_count": 13,
      "outputs": [
        {
          "output_type": "stream",
          "name": "stdout",
          "text": [
            "Zeros array (3x2):\n",
            " [[0. 0.]\n",
            " [0. 0.]\n",
            " [0. 0.]]\n"
          ]
        }
      ]
    },
    {
      "cell_type": "code",
      "source": [
        "# 🟨 Create a 2x3 array filled with ones (as integers)\n",
        "o = np.ones((2, 3), dtype='int32')\n",
        "print(\"Ones array (2x3, int):\\n\", o)\n"
      ],
      "metadata": {
        "colab": {
          "base_uri": "https://localhost:8080/"
        },
        "id": "svOuUoMZXDN4",
        "outputId": "95029928-71f1-48cd-dd46-6205a63a19d7"
      },
      "execution_count": 14,
      "outputs": [
        {
          "output_type": "stream",
          "name": "stdout",
          "text": [
            "Ones array (2x3, int):\n",
            " [[1 1 1]\n",
            " [1 1 1]]\n"
          ]
        }
      ]
    },
    {
      "cell_type": "code",
      "source": [
        "# 🟨 Create a 2x3 array filled with ones (as integers)\n",
        "o = np.ones((2, 3), dtype='int32')\n",
        "print(\"Ones array (2x3, int):\\n\", o)\n"
      ],
      "metadata": {
        "colab": {
          "base_uri": "https://localhost:8080/"
        },
        "id": "0Kk3Af32XGak",
        "outputId": "01aaac76-2247-43a9-cebf-24a7ef74d60c"
      },
      "execution_count": 15,
      "outputs": [
        {
          "output_type": "stream",
          "name": "stdout",
          "text": [
            "Ones array (2x3, int):\n",
            " [[1 1 1]\n",
            " [1 1 1]]\n"
          ]
        }
      ]
    },
    {
      "cell_type": "code",
      "source": [
        "# 🟥 Create a 3x3 array filled with a specific number (68)\n",
        "f = np.full((3, 3), 68, dtype='int64')\n",
        "print(\"Full array (3x3 filled with 68):\\n\", f)\n"
      ],
      "metadata": {
        "colab": {
          "base_uri": "https://localhost:8080/"
        },
        "id": "KrBSRzZSXKUr",
        "outputId": "b1c1f50f-86a6-42bb-c80d-aa3d14a0c79b"
      },
      "execution_count": 16,
      "outputs": [
        {
          "output_type": "stream",
          "name": "stdout",
          "text": [
            "Full array (3x3 filled with 68):\n",
            " [[68 68 68]\n",
            " [68 68 68]\n",
            " [68 68 68]]\n"
          ]
        }
      ]
    },
    {
      "cell_type": "code",
      "source": [
        "# 🟩 Create a new array with same shape as `f` but filled with a different number\n",
        "# `np.full_like` copies the shape and dtype (unless overridden) from another array\n",
        "fl = np.full_like(f, 69, dtype='int32')  # 69s in same shape as `f`\n",
        "print(\"Full-like array (same shape as f, filled with 69):\\n\", fl)\n"
      ],
      "metadata": {
        "colab": {
          "base_uri": "https://localhost:8080/"
        },
        "id": "8sE2gYVAXQ5Z",
        "outputId": "0428cca1-c6ca-4b91-d791-e26ae9e4b9fc"
      },
      "execution_count": 17,
      "outputs": [
        {
          "output_type": "stream",
          "name": "stdout",
          "text": [
            "Full-like array (same shape as f, filled with 69):\n",
            " [[69 69 69]\n",
            " [69 69 69]\n",
            " [69 69 69]]\n"
          ]
        }
      ]
    },
    {
      "cell_type": "code",
      "source": [
        "# 🎲 Generate a 3x2 matrix with random decimal values between 0 and 1\n",
        "rd = np.random.rand(3, 2)\n",
        "print(\"Random decimal array (3x2):\\n\", rd)\n"
      ],
      "metadata": {
        "colab": {
          "base_uri": "https://localhost:8080/"
        },
        "id": "Ebm8AaKZXUuo",
        "outputId": "35aca956-92b1-422f-b4e5-fc81f5c2d8bc"
      },
      "execution_count": 18,
      "outputs": [
        {
          "output_type": "stream",
          "name": "stdout",
          "text": [
            "Random decimal array (3x2):\n",
            " [[0.67468574 0.00381582]\n",
            " [0.04214733 0.45839005]\n",
            " [0.955979   0.63792066]]\n"
          ]
        }
      ]
    },
    {
      "cell_type": "code",
      "source": [
        "# 🎲 Generate a 3x3 matrix of random integers in the range [0, 10)\n",
        "ri = np.random.randint(0, 10, size=(3, 3))  # 0 inclusive, 10 exclusive\n",
        "print(\"Random integer array (3x3, values from 0 to 9):\\n\", ri)\n"
      ],
      "metadata": {
        "colab": {
          "base_uri": "https://localhost:8080/"
        },
        "id": "Mv_mgbh0XcQg",
        "outputId": "2c47aa05-8ad2-40b0-801c-e6221f88a233"
      },
      "execution_count": 19,
      "outputs": [
        {
          "output_type": "stream",
          "name": "stdout",
          "text": [
            "Random integer array (3x3, values from 0 to 9):\n",
            " [[3 7 7]\n",
            " [5 4 2]\n",
            " [2 4 0]]\n"
          ]
        }
      ]
    },
    {
      "cell_type": "code",
      "source": [
        "# 🆔 Create a 3x3 identity matrix (diagonal of 1s)\n",
        "identity = np.identity(3, dtype='int32')\n",
        "print(\"Identity matrix (3x3):\\n\", identity)\n"
      ],
      "metadata": {
        "colab": {
          "base_uri": "https://localhost:8080/"
        },
        "id": "lIQy2dSGXeAL",
        "outputId": "0e21105d-8b4c-486b-de5e-b9fa5f5d5f42"
      },
      "execution_count": 20,
      "outputs": [
        {
          "output_type": "stream",
          "name": "stdout",
          "text": [
            "Identity matrix (3x3):\n",
            " [[1 0 0]\n",
            " [0 1 0]\n",
            " [0 0 1]]\n"
          ]
        }
      ]
    },
    {
      "cell_type": "code",
      "source": [
        "# 🔁 Repeating elements of arrays\n",
        "\n",
        "# Start with a single row 2D array\n",
        "array = np.array([[1, 2, 3]])\n",
        "\n",
        "# Repeat all elements in a flattened 1D format (default axis)\n",
        "repeat = np.repeat(array, 4)\n",
        "print(\"Repeated elements (flattened):\\n\", repeat)\n",
        "\n",
        "print()  # Blank line\n",
        "\n",
        "# Repeat the row 3 times along axis=0 (row-wise)\n",
        "repeat2 = np.repeat(array, 3, axis=0)\n",
        "print(\"Repeated rows (axis=0):\\n\", repeat2)\n"
      ],
      "metadata": {
        "colab": {
          "base_uri": "https://localhost:8080/"
        },
        "id": "bXIdUS67XghE",
        "outputId": "74847ecb-0c7a-4d2e-c5af-158e1778ff21"
      },
      "execution_count": 21,
      "outputs": [
        {
          "output_type": "stream",
          "name": "stdout",
          "text": [
            "Repeated elements (flattened):\n",
            " [1 1 1 1 2 2 2 2 3 3 3 3]\n",
            "\n",
            "Repeated rows (axis=0):\n",
            " [[1 2 3]\n",
            " [1 2 3]\n",
            " [1 2 3]]\n"
          ]
        }
      ]
    },
    {
      "cell_type": "code",
      "source": [
        "# 🧬 Copying arrays properly\n",
        "\n",
        "original = np.array([3, 2, 1])\n",
        "\n",
        "# Use .copy() to make a deep copy (not a reference)\n",
        "copy = original.copy()\n",
        "\n",
        "# Modify the copy\n",
        "copy[0] = 77\n",
        "\n",
        "print(\"Original array (unchanged):\", original)\n",
        "print(\"Modified copy of array:\", copy)\n"
      ],
      "metadata": {
        "colab": {
          "base_uri": "https://localhost:8080/"
        },
        "id": "PVYr9QvdXjoH",
        "outputId": "97a25e39-59e6-4075-a22f-828cde2e5d3d"
      },
      "execution_count": 22,
      "outputs": [
        {
          "output_type": "stream",
          "name": "stdout",
          "text": [
            "Original array (unchanged): [3 2 1]\n",
            "Modified copy of array: [77  2  1]\n"
          ]
        }
      ]
    },
    {
      "cell_type": "markdown",
      "source": [
        "##Mathematics  Operations\n",
        "- Addition\n",
        "- Subtraction\n",
        "- Multiplication\n",
        "- Division"
      ],
      "metadata": {
        "id": "O2qY3jEsYbBn"
      }
    },
    {
      "cell_type": "code",
      "source": [
        "\n",
        "# Addition (element-wise)\n",
        "# Start with a 2D array\n",
        "a = np.array([[1, 2, 3, 4],\n",
        "              [5, 6, 7, 8]])\n",
        "\n",
        "# Add 2 to every element in the array\n",
        "a += 2\n",
        "print(\"After addition (a += 2):\\n\", a)\n",
        "\n",
        "# Expected Output:\n",
        "# [[ 3  4  5  6]\n",
        "#  [ 7  8  9 10]]\n",
        "\n"
      ],
      "metadata": {
        "id": "cLHnbSs3KT1y",
        "colab": {
          "base_uri": "https://localhost:8080/"
        },
        "outputId": "05c17d1b-edc9-4673-903d-9e31ae3080e0"
      },
      "execution_count": 23,
      "outputs": [
        {
          "output_type": "stream",
          "name": "stdout",
          "text": [
            "After addition (a += 2):\n",
            " [[ 3  4  5  6]\n",
            " [ 7  8  9 10]]\n"
          ]
        }
      ]
    },
    {
      "cell_type": "code",
      "source": [
        "# Subtraction (element-wise)\n",
        "# Make a copy of array `a` and subtract 5 from every element\n",
        "s = a.copy()\n",
        "s -= 5\n",
        "print(\"After subtraction (s = a - 5):\\n\", s)\n",
        "\n",
        "# Expected Output:\n",
        "# [[-2 -1  0  1]\n",
        "#  [ 2  3  4  5]]\n"
      ],
      "metadata": {
        "colab": {
          "base_uri": "https://localhost:8080/"
        },
        "id": "TUOnQVUYYaQL",
        "outputId": "9484bae7-8cfc-4ef9-bc94-be56cf35d50a"
      },
      "execution_count": 24,
      "outputs": [
        {
          "output_type": "stream",
          "name": "stdout",
          "text": [
            "After subtraction (s = a - 5):\n",
            " [[-2 -1  0  1]\n",
            " [ 2  3  4  5]]\n"
          ]
        }
      ]
    },
    {
      "cell_type": "code",
      "source": [
        "# Multiplication (element-wise)\n",
        "# Multiply every element in `s` by 6\n",
        "m = s.copy()\n",
        "m *= 6\n",
        "print(\"After multiplication (m = s * 6):\\n\", m)\n",
        "\n",
        "# Expected Output:\n",
        "# [[-12  -6   0   6]\n",
        "#  [ 12  18  24  30]]\n"
      ],
      "metadata": {
        "colab": {
          "base_uri": "https://localhost:8080/"
        },
        "id": "5KYVsgEGYptA",
        "outputId": "c9caea9d-1fcb-4bc9-9356-58040a875e26"
      },
      "execution_count": 25,
      "outputs": [
        {
          "output_type": "stream",
          "name": "stdout",
          "text": [
            "After multiplication (m = s * 6):\n",
            " [[-12  -6   0   6]\n",
            " [ 12  18  24  30]]\n"
          ]
        }
      ]
    },
    {
      "cell_type": "code",
      "source": [
        "#  Division (element-wise)\n",
        "# Divide every element in `m` by 2\n",
        "d = m.copy()\n",
        "d = d / 2  # or use d /= 2\n",
        "print(\"After division (d = m / 2):\\n\", d)\n",
        "\n",
        "# Expected Output:\n",
        "# [[ -6.  -3.   0.   3.]\n",
        "#  [  6.   9.  12.  15.]]\n"
      ],
      "metadata": {
        "colab": {
          "base_uri": "https://localhost:8080/"
        },
        "id": "L41HgJqlYxOw",
        "outputId": "1fa4d4a5-d3bc-4ecf-b0d1-27aee7528f78"
      },
      "execution_count": 26,
      "outputs": [
        {
          "output_type": "stream",
          "name": "stdout",
          "text": [
            "After division (d = m / 2):\n",
            " [[-6. -3.  0.  3.]\n",
            " [ 6.  9. 12. 15.]]\n"
          ]
        }
      ]
    },
    {
      "cell_type": "markdown",
      "source": [
        "## NumPy Vector Arithmetic: Addition, Squaring & Trigonometry\n",
        "\n",
        "In this section:\n",
        "\n",
        "- How to add two arrays (vectors)\n",
        "- Element-wise squaring of a NumPy array\n",
        "- Applying trigonometric functions: `sin()` and `cos()`\n",
        "\n",
        "\n"
      ],
      "metadata": {
        "id": "UbXXfh0SZALM"
      }
    },
    {
      "cell_type": "code",
      "source": [
        "# Element-wise Addition of Two Arrays\n",
        "a = np.array([9, 8, 7])\n",
        "b = np.array([7, 8, 9])\n",
        "\n",
        "# Add corresponding elements of `a` and `b`\n",
        "total = a + b\n",
        "print(\"Sum of arrays:\\n\", total)\n",
        "\n",
        "# Note:\n",
        "# Both arrays must have the same shape (same number of elements) for element-wise operations.\n",
        "# Output: [16 16 16]\n"
      ],
      "metadata": {
        "colab": {
          "base_uri": "https://localhost:8080/"
        },
        "id": "GQjicc6MZOlr",
        "outputId": "46df09b3-71a1-4242-f022-22f50bad6b86"
      },
      "execution_count": 27,
      "outputs": [
        {
          "output_type": "stream",
          "name": "stdout",
          "text": [
            "Sum of arrays:\n",
            " [16 16 16]\n"
          ]
        }
      ]
    },
    {
      "cell_type": "code",
      "source": [
        "#  Squaring the Elements\n",
        "# Use **2 to square each element of the array\n",
        "square = total.copy() ** 2\n",
        "print(\"Element-wise square of the sum:\\n\", square)\n",
        "\n",
        "# Output: [256 256 256]\n"
      ],
      "metadata": {
        "colab": {
          "base_uri": "https://localhost:8080/"
        },
        "id": "gTUGm55OZU53",
        "outputId": "fb08f443-b861-47c4-917a-c39c02edac55"
      },
      "execution_count": 28,
      "outputs": [
        {
          "output_type": "stream",
          "name": "stdout",
          "text": [
            "Element-wise square of the sum:\n",
            " [256 256 256]\n"
          ]
        }
      ]
    },
    {
      "cell_type": "code",
      "source": [
        "# Applying the Sine Function\n",
        "# Computes sine of each element (input in radians)\n",
        "sin_func = np.sin(square.copy())\n",
        "print(\"Sine of each squared element:\\n\", sin_func)\n"
      ],
      "metadata": {
        "colab": {
          "base_uri": "https://localhost:8080/"
        },
        "id": "ck5YoP8-ZapZ",
        "outputId": "13659cd8-f56a-4817-c58f-df2993e8f600"
      },
      "execution_count": 29,
      "outputs": [
        {
          "output_type": "stream",
          "name": "stdout",
          "text": [
            "Sine of each squared element:\n",
            " [-0.99920803 -0.99920803 -0.99920803]\n"
          ]
        }
      ]
    },
    {
      "cell_type": "code",
      "source": [
        "# Applying the Cosine Function\n",
        "cos_func = np.cos(square.copy())\n",
        "print(\"Cosine of each squared element:\\n\", cos_func)\n"
      ],
      "metadata": {
        "colab": {
          "base_uri": "https://localhost:8080/"
        },
        "id": "LEzV_XdvZeXo",
        "outputId": "f529891c-5166-4056-b51f-f6a2f25374e4"
      },
      "execution_count": 30,
      "outputs": [
        {
          "output_type": "stream",
          "name": "stdout",
          "text": [
            "Cosine of each squared element:\n",
            " [-0.03979076 -0.03979076 -0.03979076]\n"
          ]
        }
      ]
    },
    {
      "cell_type": "markdown",
      "source": [
        "##Linear Algebra\n",
        "In this section, we’ll explore how to perform matrix multiplication using `np.matmul()` — a key operation in linear algebra, machine learning, and scientific computing."
      ],
      "metadata": {
        "id": "1was_zTBZuvE"
      }
    },
    {
      "cell_type": "code",
      "source": [
        "# 🔢 Define a matrix of all 1s with shape (2 rows, 3 columns)\n",
        "a = np.ones((2, 3))\n",
        "print(\"Matrix A:\\n\", a)\n",
        "\n",
        "# 🔳 Define another matrix filled with 3s, shape (3 rows, 3 columns)\n",
        "b = np.full((3, 3), 3)\n",
        "print(\"Matrix B:\\n\", b)\n"
      ],
      "metadata": {
        "colab": {
          "base_uri": "https://localhost:8080/"
        },
        "id": "VZ0xf2G1SiS9",
        "outputId": "a3f8dd23-bd6c-4c95-aafd-30e87df8dd47"
      },
      "execution_count": 31,
      "outputs": [
        {
          "output_type": "stream",
          "name": "stdout",
          "text": [
            "Matrix A:\n",
            " [[1. 1. 1.]\n",
            " [1. 1. 1.]]\n",
            "Matrix B:\n",
            " [[3 3 3]\n",
            " [3 3 3]\n",
            " [3 3 3]]\n"
          ]
        }
      ]
    },
    {
      "cell_type": "code",
      "source": [
        "#  Matrix Multiplication\n",
        "# Use np.matmul() or the @ operator to perform matrix multiplication.\n",
        "# Matrix A has shape (2x3), Matrix B has shape (3x3)\n",
        "# Resulting matrix will have shape (2x3)\n",
        "matrix = np.matmul(a, b)\n",
        "print(\"Matrix Multiplication (A x B):\\n\", matrix)\n",
        "\n",
        "# Explanation:\n",
        "# Matrix A (2x3) dot Matrix B (3x3) = Resulting Matrix (2x3)\n"
      ],
      "metadata": {
        "colab": {
          "base_uri": "https://localhost:8080/"
        },
        "id": "DD6iPhv8aIYf",
        "outputId": "ec897e97-b2a0-43a2-b2ff-545e05bf1092"
      },
      "execution_count": 32,
      "outputs": [
        {
          "output_type": "stream",
          "name": "stdout",
          "text": [
            "Matrix Multiplication (A x B):\n",
            " [[9. 9. 9.]\n",
            " [9. 9. 9.]]\n"
          ]
        }
      ]
    },
    {
      "cell_type": "markdown",
      "source": [
        "##Finding the Determinant of a Matrix in NumPy\n",
        "\n",
        "In this example, we'll compute the **determinant** of a square matrix using `np.linalg.det()`.\n",
        "\n",
        "We use a **4×4 identity matrix**, which should always have a determinant of `1`.\n"
      ],
      "metadata": {
        "id": "4iXTwNWHaXl5"
      }
    },
    {
      "cell_type": "code",
      "source": [
        "# Create a 4x4 identity matrix with integer data type\n",
        "a = np.identity(4, dtype='int32')\n",
        "print(\"Identity matrix (4x4):\\n\", a)\n",
        "\n",
        "# 📏 Compute its determinant\n",
        "det = np.linalg.det(a)\n",
        "print(\"Determinant of identity matrix:\", det)\n"
      ],
      "metadata": {
        "colab": {
          "base_uri": "https://localhost:8080/"
        },
        "id": "8-hICFIqaJWJ",
        "outputId": "3695011b-15b5-4844-c88c-44339b8e98c2"
      },
      "execution_count": 33,
      "outputs": [
        {
          "output_type": "stream",
          "name": "stdout",
          "text": [
            "Identity matrix (4x4):\n",
            " [[1 0 0 0]\n",
            " [0 1 0 0]\n",
            " [0 0 1 0]\n",
            " [0 0 0 1]]\n",
            "Determinant of identity matrix: 1.0\n"
          ]
        }
      ]
    },
    {
      "cell_type": "markdown",
      "source": [
        "##Statistics: Min, Max, and Sum\n",
        "\n",
        "In this section, we'll learn how to compute basic statistical values from NumPy arrays, including:\n",
        "\n",
        "- Minimum (`np.min`)\n",
        "- Maximum (`np.max`)\n",
        "- Sum (`np.sum`)\n",
        "\n",
        "These are applied across the full array or along specific axes (rows/columns).\n"
      ],
      "metadata": {
        "id": "Azp0DRxgajSI"
      }
    },
    {
      "cell_type": "code",
      "source": [
        "# Create a 2D array\n",
        "stats = np.array([\n",
        "    [1, 2, 3, 4, 5],\n",
        "    [6, 7, 8, 9, 10]\n",
        "])\n",
        "print(\"2D Array:\\n\", stats)\n"
      ],
      "metadata": {
        "colab": {
          "base_uri": "https://localhost:8080/"
        },
        "id": "ZZ_N6x7gap2W",
        "outputId": "69d6d220-3c66-4da6-ba86-f9a6c4be88b6"
      },
      "execution_count": 34,
      "outputs": [
        {
          "output_type": "stream",
          "name": "stdout",
          "text": [
            "2D Array:\n",
            " [[ 1  2  3  4  5]\n",
            " [ 6  7  8  9 10]]\n"
          ]
        }
      ]
    },
    {
      "cell_type": "code",
      "source": [
        "# Minimum value in the entire array\n",
        "min_val = np.min(stats)\n",
        "print(\"Minimum value:\", min_val)\n"
      ],
      "metadata": {
        "colab": {
          "base_uri": "https://localhost:8080/"
        },
        "id": "NAIehoYRauMq",
        "outputId": "a389c29f-79fd-480f-8578-a1f02f45ecce"
      },
      "execution_count": 35,
      "outputs": [
        {
          "output_type": "stream",
          "name": "stdout",
          "text": [
            "Minimum value: 1\n"
          ]
        }
      ]
    },
    {
      "cell_type": "code",
      "source": [
        "# Maximum value in the entire array\n",
        "max_val = np.max(stats)\n",
        "print(\"Maximum value:\", max_val)\n"
      ],
      "metadata": {
        "colab": {
          "base_uri": "https://localhost:8080/"
        },
        "id": "x3xcKpY5avDg",
        "outputId": "cd9f2cc6-f247-4041-ebb1-894f795422b5"
      },
      "execution_count": 36,
      "outputs": [
        {
          "output_type": "stream",
          "name": "stdout",
          "text": [
            "Maximum value: 10\n"
          ]
        }
      ]
    },
    {
      "cell_type": "code",
      "source": [
        "#  Sum of elements along each column (axis=0)\n",
        "sum_col = np.sum(stats, axis=0)\n",
        "print(\"Sum of each column:\", sum_col)\n",
        "\n",
        "#  Sum of elements along each row (axis=1) — optional\n",
        "sum_row = np.sum(stats, axis=1)\n",
        "print(\"Sum of each row:\", sum_row)\n"
      ],
      "metadata": {
        "colab": {
          "base_uri": "https://localhost:8080/"
        },
        "id": "NjpRDs5JazZ2",
        "outputId": "46f5885c-71ed-4904-94ca-786ac84eead0"
      },
      "execution_count": 37,
      "outputs": [
        {
          "output_type": "stream",
          "name": "stdout",
          "text": [
            "Sum of each column: [ 7  9 11 13 15]\n",
            "Sum of each row: [15 40]\n"
          ]
        }
      ]
    },
    {
      "cell_type": "markdown",
      "source": [
        "# Reorganizing Arrays with `reshape()`\n",
        "\n",
        "NumPy allows you to reshape arrays using the `reshape()` method. This is useful when you want to convert a 1D array into a 2D array or change its structure while preserving the data.\n",
        "\n",
        "In this example, we convert a 1D array of 10 elements into a 2D array with 2 rows and 5 columns.\n"
      ],
      "metadata": {
        "id": "0Z86s-K_fyka"
      }
    },
    {
      "cell_type": "code",
      "source": [
        "#  Create a 1D array with 10 elements\n",
        "before = np.array([1, 2, 3, 4, 5, 6, 7, 8, 9, 10])\n",
        "print(\"Before reshaping (1D array):\\n\", before)\n"
      ],
      "metadata": {
        "colab": {
          "base_uri": "https://localhost:8080/"
        },
        "id": "owlhSgnOf9Gd",
        "outputId": "f5792050-0a70-478d-ed7f-82131b29e58f"
      },
      "execution_count": 38,
      "outputs": [
        {
          "output_type": "stream",
          "name": "stdout",
          "text": [
            "Before reshaping (1D array):\n",
            " [ 1  2  3  4  5  6  7  8  9 10]\n"
          ]
        }
      ]
    },
    {
      "cell_type": "code",
      "source": [
        "# Reshape into 2 rows and 5 columns\n",
        "after = before.reshape((2, 5))\n",
        "print(\"After reshaping to (2, 5):\\n\", after)\n",
        "\n",
        "# Note:\n",
        "# The total number of elements must remain the same.\n",
        "# 1D → 2D reshaping is common in machine learning and image processing.\n"
      ],
      "metadata": {
        "colab": {
          "base_uri": "https://localhost:8080/"
        },
        "id": "owmKDTvagF1L",
        "outputId": "cb161474-8f45-4182-f4aa-df28149cc72b"
      },
      "execution_count": 39,
      "outputs": [
        {
          "output_type": "stream",
          "name": "stdout",
          "text": [
            "After reshaping to (2, 5):\n",
            " [[ 1  2  3  4  5]\n",
            " [ 6  7  8  9 10]]\n"
          ]
        }
      ]
    },
    {
      "cell_type": "markdown",
      "source": [
        "##  NumPy Array Stacking: Vertical & Horizontal\n",
        "\n",
        "Stacking is a way to combine multiple arrays into one. NumPy provides:\n",
        "\n",
        "- `np.vstack()` to **vertically stack** arrays (along rows)\n",
        "- `np.hstack()` to **horizontally stack** arrays (along columns)\n",
        "\n",
        "These are useful when building large arrays from smaller blocks — especially in image processing, data joining, and neural networks.\n"
      ],
      "metadata": {
        "id": "LON26EnWgg0Y"
      }
    },
    {
      "cell_type": "code",
      "source": [
        "#  Define two 1D arrays (vectors)\n",
        "v1 = np.array([1, 2, 3, 4, 5])\n",
        "v2 = np.array([6, 7, 8, 9, 10])\n",
        "\n",
        "#  Vertically stack: will stack as separate rows\n",
        "# Order: v1, v2, v1, v2 → results in a 4x5 matrix\n",
        "stacked_array = np.vstack([v1, v2, v1, v2])\n",
        "\n",
        "print(\" Vertical stacking of arrays:\\n\", stacked_array)\n",
        "\n",
        "# Output:\n",
        "# [[ 1  2  3  4  5]\n",
        "#  [ 6  7  8  9 10]\n",
        "#  [ 1  2  3  4  5]\n",
        "#  [ 6  7  8  9 10]]\n"
      ],
      "metadata": {
        "colab": {
          "base_uri": "https://localhost:8080/"
        },
        "id": "hZ2bldswgkLj",
        "outputId": "e97cd58d-fe8b-4fdd-e06e-456f9bf5d549"
      },
      "execution_count": 40,
      "outputs": [
        {
          "output_type": "stream",
          "name": "stdout",
          "text": [
            " Vertical stacking of arrays:\n",
            " [[ 1  2  3  4  5]\n",
            " [ 6  7  8  9 10]\n",
            " [ 1  2  3  4  5]\n",
            " [ 6  7  8  9 10]]\n"
          ]
        }
      ]
    },
    {
      "cell_type": "code",
      "source": [
        "#  Define two 2D arrays for horizontal stacking\n",
        "h1 = np.ones((3, 2))   # 3 rows × 2 columns of ones\n",
        "h2 = np.zeros((3, 3))  # 3 rows × 3 columns of zeros\n",
        "\n",
        "#  Horizontally stack: requires same number of rows\n",
        "# Concatenates columns from both arrays\n",
        "h_stacked = np.hstack((h1, h2))\n",
        "\n",
        "print(\" Horizontal stacking of arrays:\\n\", h_stacked)\n",
        "\n",
        "# Output:\n",
        "# [[1. 1. 0. 0. 0.]\n",
        "#  [1. 1. 0. 0. 0.]\n",
        "#  [1. 1. 0. 0. 0.]]\n"
      ],
      "metadata": {
        "colab": {
          "base_uri": "https://localhost:8080/"
        },
        "id": "uiSoKz6JgqBP",
        "outputId": "55897f6c-dd71-4c22-8ae2-27203cf66a78"
      },
      "execution_count": 41,
      "outputs": [
        {
          "output_type": "stream",
          "name": "stdout",
          "text": [
            " Horizontal stacking of arrays:\n",
            " [[1. 1. 0. 0. 0.]\n",
            " [1. 1. 0. 0. 0.]\n",
            " [1. 1. 0. 0. 0.]]\n"
          ]
        }
      ]
    },
    {
      "cell_type": "markdown",
      "source": [
        "## Loading Data from Text Files with NumPy\n",
        "\n",
        "NumPy provides powerful tools to load structured data from `.txt` files using `np.genfromtxt()`. This is often used for reading CSV-style numeric datasets.\n",
        "\n",
        "###  File Used: `data.txt`\n",
        "\n",
        ">  Ensure that `data.txt` is located in the **same directory** as your Python script or notebook.\n"
      ],
      "metadata": {
        "id": "bNWTCDd7g761"
      }
    },
    {
      "cell_type": "code",
      "source": [
        "# Load a text file using np.genfromtxt\n",
        "file = np.genfromtxt(\"data.txt\", delimiter=\",\")  # Load CSV-style text file\n",
        "\n",
        "#  What is delimiter?\n",
        "# The `delimiter=\",\"` tells NumPy to split each line at commas — like reading a CSV.\n",
        "# You can change it to '\\t' for tab-separated files or ' ' for space.\n",
        "\n",
        "#  Convert data type to int32 for consistency in further operations\n",
        "file = file.astype('int32')\n",
        "\n",
        "# Print the loaded matrix\n",
        "print(\"Loaded data:\\n\", file)\n"
      ],
      "metadata": {
        "colab": {
          "base_uri": "https://localhost:8080/"
        },
        "id": "iSCysnckhD-P",
        "outputId": "d8660462-dfab-4fd3-f7d9-59d3b67d3b2d"
      },
      "execution_count": 42,
      "outputs": [
        {
          "output_type": "stream",
          "name": "stdout",
          "text": [
            "Loaded data:\n",
            " [[  1  13  21  11 196  75   4   3  34   6   7   8   0   1   2   3   4   5]\n",
            " [  3  42  12  33 766  75   4  55   6   4   3   4   5   6   7   0  11  12]\n",
            " [  1  22  33  11 999  11   2   1  78   0   1   2   9   8   7   1  76  88]]\n"
          ]
        }
      ]
    },
    {
      "cell_type": "code",
      "source": [
        "# 🔍 Boolean Masking: Create a mask where values are > 50 AND < 98\n",
        "\n",
        "# You cannot use:\n",
        "# (file > 50) and (file < 98)\n",
        "# Because `and` only works with single boolean values, not arrays\n",
        "\n",
        "#Use bitwise logical operator `&` for element-wise comparison\n",
        "#print((file>50)) and (file<98)\n",
        "mask = (file > 50) & (file < 98)\n",
        "print(\"Boolean mask for values > 50 and < 98:\\n\", mask)\n",
        "\n",
        "# You can also filter values like this:\n",
        "filtered = file[mask]\n",
        "print(\"Filtered values:\\n\", filtered)\n"
      ],
      "metadata": {
        "colab": {
          "base_uri": "https://localhost:8080/"
        },
        "id": "5suDh2-1hTGA",
        "outputId": "d2b0a05b-d502-460c-bdfe-55f95272849a"
      },
      "execution_count": 43,
      "outputs": [
        {
          "output_type": "stream",
          "name": "stdout",
          "text": [
            "Boolean mask for values > 50 and < 98:\n",
            " [[False False False False False  True False False False False False False\n",
            "  False False False False False False]\n",
            " [False False False False False  True False  True False False False False\n",
            "  False False False False False False]\n",
            " [False False False False False False False False  True False False False\n",
            "  False False False False  True  True]]\n",
            "Filtered values:\n",
            " [75 75 55 78 76 88]\n"
          ]
        }
      ]
    }
  ]
}